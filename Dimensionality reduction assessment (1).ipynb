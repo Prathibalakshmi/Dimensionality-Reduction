{
 "cells": [
  {
   "cell_type": "code",
   "execution_count": 1,
   "id": "1677cde7",
   "metadata": {},
   "outputs": [],
   "source": [
    "import pandas as pd\n",
    "import numpy as np\n",
    "import matplotlib.pyplot as plt\n",
    "import os\n",
    "import seaborn as sns"
   ]
  },
  {
   "cell_type": "markdown",
   "id": "87407dc5",
   "metadata": {},
   "source": [
    "### Load the two datasets"
   ]
  },
  {
   "cell_type": "code",
   "execution_count": 2,
   "id": "35566c2c",
   "metadata": {},
   "outputs": [
    {
     "data": {
      "text/plain": [
       "(5000, 60)"
      ]
     },
     "execution_count": 2,
     "metadata": {},
     "output_type": "execute_result"
    }
   ],
   "source": [
    "f_nspeech = np.load('C:\\\\Users\\\\Manit\\\\Downloads\\\\ExamPaperonDimensionalityReduction\\\\Exam Paper on Dimensionality Reduction\\\\Dataset\\MFCC_N.npy')\n",
    "f_nspeech.shape"
   ]
  },
  {
   "cell_type": "code",
   "execution_count": 3,
   "id": "bff5bf25",
   "metadata": {},
   "outputs": [
    {
     "data": {
      "text/plain": [
       "(5000, 60)"
      ]
     },
     "execution_count": 3,
     "metadata": {},
     "output_type": "execute_result"
    }
   ],
   "source": [
    "f_sspeech = np.load('C:\\\\Users\\\\Manit\\\\Downloads\\\\ExamPaperonDimensionalityReduction\\\\Exam Paper on Dimensionality Reduction\\\\Dataset\\MFCC_S.npy')\n",
    "f_sspeech.shape"
   ]
  },
  {
   "cell_type": "code",
   "execution_count": 4,
   "id": "ba1db906",
   "metadata": {},
   "outputs": [
    {
     "data": {
      "text/plain": [
       "((5000, 60), (5000, 60))"
      ]
     },
     "execution_count": 4,
     "metadata": {},
     "output_type": "execute_result"
    }
   ],
   "source": [
    "fn = np.array(f_nspeech)\n",
    "fs = np.array(f_sspeech)\n",
    "fn.shape ,fs.shape"
   ]
  },
  {
   "cell_type": "markdown",
   "id": "4115d33e",
   "metadata": {},
   "source": [
    "### Working for centroids and covariance matrix"
   ]
  },
  {
   "cell_type": "code",
   "execution_count": 5,
   "id": "6a3e8c3e",
   "metadata": {},
   "outputs": [
    {
     "name": "stdout",
     "output_type": "stream",
     "text": [
      " Centroid of Normal Speech Signal =  -0.30615575834834285\n"
     ]
    }
   ],
   "source": [
    "# Normal speech centroids of each list\n",
    "mu = np.mean(fn, axis=0)\n",
    "Cn = (fn-mu).T\n",
    "# mean of all computed means\n",
    "Nn = np.mean(mu)\n",
    "print(' Centroid of Normal Speech Signal = ',Nn)    "
   ]
  },
  {
   "cell_type": "code",
   "execution_count": 6,
   "id": "c614f841",
   "metadata": {},
   "outputs": [
    {
     "name": "stdout",
     "output_type": "stream",
     "text": [
      " Centroid of Shouted Speech Signal =  -0.3136984235553016\n"
     ]
    }
   ],
   "source": [
    "# Shouted speech centroids of each list\n",
    "mu1 = np.mean(fs, axis=0)\n",
    "Cc = (fs-mu1).T\n",
    "\n",
    "# mean of all computed mean\n",
    "Nc = np.mean(mu1)\n",
    "print(' Centroid of Shouted Speech Signal = ',Nc)\n"
   ]
  },
  {
   "cell_type": "code",
   "execution_count": 7,
   "id": "6002f6e2",
   "metadata": {},
   "outputs": [
    {
     "name": "stdout",
     "output_type": "stream",
     "text": [
      "Covariance matrix of Normal speech signal\n"
     ]
    },
    {
     "data": {
      "text/plain": [
       "(60, 60)"
      ]
     },
     "execution_count": 7,
     "metadata": {},
     "output_type": "execute_result"
    }
   ],
   "source": [
    "print('Covariance matrix of Normal speech signal')\n",
    "Cn = np.cov(Cn)\n",
    "Cn.shape"
   ]
  },
  {
   "cell_type": "code",
   "execution_count": 8,
   "id": "baea95ca",
   "metadata": {},
   "outputs": [
    {
     "name": "stdout",
     "output_type": "stream",
     "text": [
      "Covariance matrix of Shouted speech signal\n"
     ]
    },
    {
     "data": {
      "text/plain": [
       "(60, 60)"
      ]
     },
     "execution_count": 8,
     "metadata": {},
     "output_type": "execute_result"
    }
   ],
   "source": [
    "print('Covariance matrix of Shouted speech signal')\n",
    "Cc = np.cov(Cc)\n",
    "Cc.shape"
   ]
  },
  {
   "cell_type": "markdown",
   "id": "d4c44961",
   "metadata": {},
   "source": [
    "### Optimal direction vector m^ (unit vector) for LDA"
   ]
  },
  {
   "cell_type": "code",
   "execution_count": 9,
   "id": "e79d48da",
   "metadata": {},
   "outputs": [
    {
     "name": "stdout",
     "output_type": "stream",
     "text": [
      "60\n"
     ]
    }
   ],
   "source": [
    "mu = mu1 -mu\n",
    "print(len(mu))"
   ]
  },
  {
   "cell_type": "code",
   "execution_count": 10,
   "id": "df5f1b91",
   "metadata": {},
   "outputs": [
    {
     "name": "stdout",
     "output_type": "stream",
     "text": [
      "(60, 60)\n"
     ]
    }
   ],
   "source": [
    "Sw = Cc +Cn\n",
    "print(Sw.shape)"
   ]
  },
  {
   "cell_type": "code",
   "execution_count": 11,
   "id": "38f30a29",
   "metadata": {},
   "outputs": [],
   "source": [
    "u = np.linalg.inv(Sw)@mu"
   ]
  },
  {
   "cell_type": "code",
   "execution_count": 16,
   "id": "264035f6",
   "metadata": {},
   "outputs": [
    {
     "data": {
      "text/plain": [
       "10.79259738456911"
      ]
     },
     "execution_count": 16,
     "metadata": {},
     "output_type": "execute_result"
    }
   ],
   "source": [
    "np.linalg.norm(u)"
   ]
  },
  {
   "cell_type": "code",
   "execution_count": 17,
   "id": "fff33847",
   "metadata": {},
   "outputs": [
    {
     "name": "stdout",
     "output_type": "stream",
     "text": [
      "Direction vector \n",
      "\n",
      " [ 0.05013247  0.02059452  0.01147756  0.00076913 -0.020969   -0.03169092\n",
      " -0.02056796 -0.05929642  0.00243547 -0.02406555 -0.06233557 -0.02164728\n",
      " -0.03385221 -0.01278151 -0.05648473  0.04961829 -0.08909274  0.03341232\n",
      " -0.05157907  0.03478414 -0.00554002 -0.00273071  0.00941994 -0.02006019\n",
      " -0.0062669   0.00815022  0.00302164  0.01945601  0.01438128  0.04405062\n",
      " -0.00389541 -0.00458378  0.05268316 -0.03480734  0.01620402  0.01436791\n",
      "  0.00345099 -0.0043939  -0.00400961  0.01123724  0.29476108  0.13029349\n",
      "  0.06464455 -0.02897804 -0.14512398 -0.21297685 -0.11160177 -0.23896296\n",
      " -0.02695199 -0.10490741 -0.32085395 -0.1062125  -0.19659521 -0.11972019\n",
      " -0.3170081   0.25783691 -0.49174749  0.13488922 -0.28860523  0.15750495]\n"
     ]
    }
   ],
   "source": [
    "m = u/np.linalg.norm(u)\n",
    "print('Direction vector \\n\\n' ,m)"
   ]
  },
  {
   "cell_type": "markdown",
   "id": "2f34ea22",
   "metadata": {},
   "source": [
    "### Project the vector data in arrays N and S to generate the respective array of scalars zN and zS."
   ]
  },
  {
   "cell_type": "code",
   "execution_count": 13,
   "id": "60b85d42",
   "metadata": {},
   "outputs": [
    {
     "data": {
      "text/plain": [
       "array([-0.0897243 , -0.14824091, -0.21655072, ..., -0.68304663,\n",
       "       -0.70418034, -0.71242595])"
      ]
     },
     "execution_count": 13,
     "metadata": {},
     "output_type": "execute_result"
    }
   ],
   "source": [
    "zN = fn@m # multiplying direction vector to input data\n",
    "zN"
   ]
  },
  {
   "cell_type": "code",
   "execution_count": 14,
   "id": "92d7dd76",
   "metadata": {},
   "outputs": [
    {
     "data": {
      "text/plain": [
       "(5000,)"
      ]
     },
     "execution_count": 14,
     "metadata": {},
     "output_type": "execute_result"
    }
   ],
   "source": [
    "zS = fs@m # multiplying direction vector to input data\n",
    "zS.shape"
   ]
  },
  {
   "cell_type": "markdown",
   "id": "4024d3a1",
   "metadata": {},
   "source": [
    "### Plot the normalized histograms of zN and zS in two different colors (red and blue). "
   ]
  },
  {
   "cell_type": "code",
   "execution_count": 20,
   "id": "e2105e9c",
   "metadata": {},
   "outputs": [
    {
     "data": {
      "image/png": "[encoded data removed]",
      "text/plain": [
       "<Figure size 576x432 with 1 Axes>"
      ]
     },
     "metadata": {
      "needs_background": "light"
     },
     "output_type": "display_data"
    }
   ],
   "source": [
    "plt.figure(figsize=(8,6))\n",
    "plt.hist(zN,bins=50, alpha=0.6,color='red',label='zN',density=True)\n",
    "plt.hist(zS,bins=50, alpha=0.6,color='blue',label='zS',density=True)\n",
    "plt.title('Normalised Histograms of zN and zS')\n",
    "plt.legend()\n",
    "plt.show()"
   ]
  },
  {
   "cell_type": "code",
   "execution_count": null,
   "id": "d88fc0ba",
   "metadata": {},
   "outputs": [],
   "source": []
  }
 ],
 "metadata": {
  "kernelspec": {
   "display_name": "Python 3 (ipykernel)",
   "language": "python",
   "name": "python3"
  },
  "language_info": {
   "codemirror_mode": {
    "name": "ipython",
    "version": 3
   },
   "file_extension": ".py",
   "mimetype": "text/x-python",
   "name": "python",
   "nbconvert_exporter": "python",
   "pygments_lexer": "ipython3",
   "version": "3.10.9"
  }
 },
 "nbformat": 4,
 "nbformat_minor": 5
}
